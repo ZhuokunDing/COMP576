{
 "cells": [
  {
   "cell_type": "code",
   "execution_count": 1,
   "metadata": {},
   "outputs": [],
   "source": [
    "from scipy import misc\n",
    "import numpy as np\n",
    "import torch.nn as nn\n",
    "import torch.nn.functional as F\n",
    "import torch\n",
    "import random\n",
    "import matplotlib.pyplot as plt\n",
    "import matplotlib as mp\n",
    "import torch.optim as optim\n",
    "from torch.utils.data import DataLoader"
   ]
  },
  {
   "cell_type": "code",
   "execution_count": 2,
   "metadata": {},
   "outputs": [],
   "source": [
    "import logging\n",
    "logging.basicConfig(level=20)"
   ]
  },
  {
   "cell_type": "code",
   "execution_count": 3,
   "metadata": {},
   "outputs": [],
   "source": [
    "import cifar10"
   ]
  },
  {
   "cell_type": "code",
   "execution_count": 5,
   "metadata": {},
   "outputs": [],
   "source": [
    "Train, LTrain, Test, LTest = cifar10.load_data()"
   ]
  },
  {
   "cell_type": "code",
   "execution_count": 36,
   "metadata": {},
   "outputs": [
    {
     "name": "stdout",
     "output_type": "stream",
     "text": [
      "[1,    20] loss: 2.277\n",
      "train_accuracy:0.240\n",
      "test_accuracy:0.188\n",
      "[1,    40] loss: 2.137\n",
      "train_accuracy:0.220\n",
      "test_accuracy:0.242\n",
      "[1,    60] loss: 2.022\n",
      "train_accuracy:0.330\n",
      "test_accuracy:0.304\n",
      "[1,    80] loss: 1.931\n",
      "train_accuracy:0.440\n",
      "test_accuracy:0.336\n",
      "[1,   100] loss: 1.831\n",
      "train_accuracy:0.510\n",
      "test_accuracy:0.358\n",
      "[2,    20] loss: 1.748\n",
      "train_accuracy:0.530\n",
      "test_accuracy:0.371\n",
      "[2,    40] loss: 1.745\n",
      "train_accuracy:0.450\n",
      "test_accuracy:0.401\n",
      "[2,    60] loss: 1.659\n",
      "train_accuracy:0.350\n",
      "test_accuracy:0.403\n",
      "[2,    80] loss: 1.730\n",
      "train_accuracy:0.390\n",
      "test_accuracy:0.355\n",
      "[2,   100] loss: 1.719\n",
      "train_accuracy:0.490\n",
      "test_accuracy:0.379\n",
      "[3,    20] loss: 1.615\n",
      "train_accuracy:0.500\n",
      "test_accuracy:0.416\n",
      "[3,    40] loss: 1.580\n",
      "train_accuracy:0.430\n",
      "test_accuracy:0.385\n",
      "[3,    60] loss: 1.567\n",
      "train_accuracy:0.530\n",
      "test_accuracy:0.415\n",
      "[3,    80] loss: 1.435\n",
      "train_accuracy:0.620\n",
      "test_accuracy:0.441\n",
      "[3,   100] loss: 1.441\n",
      "train_accuracy:0.520\n",
      "test_accuracy:0.455\n",
      "[4,    20] loss: 1.426\n",
      "train_accuracy:0.570\n",
      "test_accuracy:0.453\n",
      "[4,    40] loss: 1.396\n",
      "train_accuracy:0.530\n",
      "test_accuracy:0.431\n",
      "[4,    60] loss: 1.409\n",
      "train_accuracy:0.580\n",
      "test_accuracy:0.454\n",
      "[4,    80] loss: 1.387\n",
      "train_accuracy:0.570\n",
      "test_accuracy:0.457\n",
      "[4,   100] loss: 1.362\n",
      "train_accuracy:0.630\n",
      "test_accuracy:0.466\n",
      "[5,    20] loss: 1.483\n",
      "train_accuracy:0.410\n",
      "test_accuracy:0.369\n",
      "[5,    40] loss: 1.816\n",
      "train_accuracy:0.590\n",
      "test_accuracy:0.370\n",
      "[5,    60] loss: 1.503\n",
      "train_accuracy:0.610\n",
      "test_accuracy:0.452\n",
      "[5,    80] loss: 1.365\n",
      "train_accuracy:0.600\n",
      "test_accuracy:0.435\n",
      "[5,   100] loss: 1.355\n",
      "train_accuracy:0.590\n",
      "test_accuracy:0.432\n",
      "[6,    20] loss: 1.353\n",
      "train_accuracy:0.540\n",
      "test_accuracy:0.432\n",
      "[6,    40] loss: 1.268\n",
      "train_accuracy:0.690\n",
      "test_accuracy:0.469\n",
      "[6,    60] loss: 1.224\n",
      "train_accuracy:0.690\n",
      "test_accuracy:0.483\n",
      "[6,    80] loss: 1.184\n",
      "train_accuracy:0.630\n",
      "test_accuracy:0.467\n",
      "[6,   100] loss: 1.265\n",
      "train_accuracy:0.670\n",
      "test_accuracy:0.496\n",
      "[7,    20] loss: 1.221\n",
      "train_accuracy:0.570\n",
      "test_accuracy:0.447\n",
      "[7,    40] loss: 1.223\n",
      "train_accuracy:0.650\n",
      "test_accuracy:0.473\n",
      "[7,    60] loss: 1.115\n",
      "train_accuracy:0.630\n",
      "test_accuracy:0.495\n",
      "[7,    80] loss: 1.103\n",
      "train_accuracy:0.680\n",
      "test_accuracy:0.494\n",
      "[7,   100] loss: 1.027\n",
      "train_accuracy:0.700\n",
      "test_accuracy:0.492\n",
      "[8,    20] loss: 1.116\n",
      "train_accuracy:0.670\n",
      "test_accuracy:0.488\n",
      "[8,    40] loss: 1.152\n",
      "train_accuracy:0.620\n",
      "test_accuracy:0.473\n",
      "[8,    60] loss: 1.072\n",
      "train_accuracy:0.690\n",
      "test_accuracy:0.476\n",
      "[8,    80] loss: 1.051\n",
      "train_accuracy:0.720\n",
      "test_accuracy:0.465\n",
      "[8,   100] loss: 1.023\n",
      "train_accuracy:0.770\n",
      "test_accuracy:0.493\n",
      "[9,    20] loss: 0.957\n",
      "train_accuracy:0.780\n",
      "test_accuracy:0.446\n",
      "[9,    40] loss: 1.083\n",
      "train_accuracy:0.750\n",
      "test_accuracy:0.475\n",
      "[9,    60] loss: 0.915\n",
      "train_accuracy:0.770\n",
      "test_accuracy:0.487\n",
      "[9,    80] loss: 0.861\n",
      "train_accuracy:0.800\n",
      "test_accuracy:0.493\n",
      "[9,   100] loss: 0.926\n",
      "train_accuracy:0.780\n",
      "test_accuracy:0.486\n",
      "[10,    20] loss: 0.811\n",
      "train_accuracy:0.790\n",
      "test_accuracy:0.501\n",
      "[10,    40] loss: 0.783\n",
      "train_accuracy:0.760\n",
      "test_accuracy:0.497\n",
      "[10,    60] loss: 0.744\n",
      "train_accuracy:0.750\n",
      "test_accuracy:0.492\n",
      "[10,    80] loss: 0.793\n",
      "train_accuracy:0.810\n",
      "test_accuracy:0.496\n",
      "[10,   100] loss: 0.752\n",
      "train_accuracy:0.840\n",
      "test_accuracy:0.477\n"
     ]
    }
   ],
   "source": [
    "import importlib\n",
    "importlib.reload(cifar10)\n",
    "\n",
    "net = cifar10.train_net(Train, LTrain, Test, LTest, lr=0.05, momentum=0.9)"
   ]
  },
  {
   "cell_type": "code",
   "execution_count": 11,
   "metadata": {},
   "outputs": [
    {
     "data": {
      "text/plain": [
       "LeNet(\n",
       "  (conv1): Conv2d(1, 32, kernel_size=(5, 5), stride=(1, 1), padding=(1, 1))\n",
       "  (conv2): Conv2d(32, 64, kernel_size=(5, 5), stride=(1, 1), padding=(1, 1))\n",
       "  (pool): MaxPool2d(kernel_size=2, stride=2, padding=1, dilation=1, ceil_mode=False)\n",
       "  (fc1): Linear(in_features=3136, out_features=1024, bias=True)\n",
       "  (fc2): Linear(in_features=1024, out_features=10, bias=True)\n",
       "  (act): ReLU()\n",
       ")"
      ]
     },
     "execution_count": 11,
     "metadata": {},
     "output_type": "execute_result"
    }
   ],
   "source": [
    "    ntrain = 1000 # per class\n",
    "    ntest = 100 # per class\n",
    "    nclass = 10 # number of classes\n",
    "    imsize = 28\n",
    "    nchannels = 1 \n",
    "    batchsize = 100\n",
    "    nsamples = ntrain * nclass\n",
    "\n",
    "    net = cifar10.LeNet()\n",
    "    net.cuda()\n"
   ]
  },
  {
   "cell_type": "code",
   "execution_count": 12,
   "metadata": {},
   "outputs": [],
   "source": [
    "perm = np.arange(nsamples)\n",
    "np.random.shuffle(perm)"
   ]
  },
  {
   "cell_type": "code",
   "execution_count": 14,
   "metadata": {},
   "outputs": [],
   "source": [
    "batch_xs = torch.tensor(np.zeros((batchsize, nchannels, imsize, imsize)), device='cuda', dtype=torch.float32)#setup as [batchsize, width, height, numberOfChannels] and use np.zeros()\n",
    "batch_ys = torch.tensor(np.zeros(batchsize), device='cuda', dtype=torch.long)#setup as [batchsize, the how many classes] \n",
    "\n",
    "for j in range(batchsize):\n",
    "    batch_xs[j,:,:,:] = torch.tensor(Train[perm[j],:,:,:])\n",
    "    batch_ys[j] = LTrain[perm[j]]"
   ]
  },
  {
   "cell_type": "code",
   "execution_count": 16,
   "metadata": {},
   "outputs": [],
   "source": [
    "ys = net(batch_xs)"
   ]
  },
  {
   "cell_type": "code",
   "execution_count": 17,
   "metadata": {},
   "outputs": [
    {
     "data": {
      "text/plain": [
       "torch.Size([100, 10])"
      ]
     },
     "execution_count": 17,
     "metadata": {},
     "output_type": "execute_result"
    }
   ],
   "source": [
    "ys.shape"
   ]
  },
  {
   "cell_type": "code",
   "execution_count": 23,
   "metadata": {},
   "outputs": [
    {
     "data": {
      "text/plain": [
       "tensor([9, 4, 5, 9, 5, 2, 0, 7, 5, 5, 0, 0, 8, 6, 7, 7, 0, 8, 7, 8, 9, 1, 8, 3,\n",
       "        5, 0, 9, 5, 6, 1, 2, 1, 1, 7, 0, 6, 4, 2, 0, 3, 1, 7, 0, 1, 2, 7, 0, 9,\n",
       "        4, 2, 6, 0, 5, 5, 7, 8, 8, 1, 6, 4, 0, 5, 1, 5, 9, 1, 6, 4, 4, 1, 2, 4,\n",
       "        7, 2, 5, 6, 4, 1, 5, 1, 0, 7, 5, 6, 2, 0, 5, 9, 9, 9, 3, 7, 2, 2, 0, 4,\n",
       "        4, 0, 3, 3], device='cuda:0')"
      ]
     },
     "execution_count": 23,
     "metadata": {},
     "output_type": "execute_result"
    }
   ],
   "source": [
    "batch_ys"
   ]
  },
  {
   "cell_type": "code",
   "execution_count": 27,
   "metadata": {},
   "outputs": [
    {
     "data": {
      "text/plain": [
       "tensor(0.1100, device='cuda:0')"
      ]
     },
     "execution_count": 27,
     "metadata": {},
     "output_type": "execute_result"
    }
   ],
   "source": [
    "(ys.argmax(1) == batch_ys).float().mean()"
   ]
  },
  {
   "cell_type": "code",
   "execution_count": null,
   "metadata": {},
   "outputs": [],
   "source": [
    "%debug"
   ]
  },
  {
   "cell_type": "code",
   "execution_count": 7,
   "metadata": {},
   "outputs": [
    {
     "data": {
      "image/png": "[encoded data removed]",
      "text/plain": [
       "<Figure size 432x288 with 32 Axes>"
      ]
     },
     "metadata": {
      "needs_background": "light"
     },
     "output_type": "display_data"
    }
   ],
   "source": [
    "fig, axes = plt.subplots(4,8)\n",
    "for (weight,axe) in zip(net.conv1.weight, axes.ravel()):\n",
    "    axe.axis('off')\n",
    "    axe.imshow(weight.detach().squeeze().cpu().numpy(), cmap='gray')"
   ]
  }
 ],
 "metadata": {
  "kernelspec": {
   "display_name": "Python 3",
   "language": "python",
   "name": "python3"
  },
  "language_info": {
   "codemirror_mode": {
    "name": "ipython",
    "version": 3
   },
   "file_extension": ".py",
   "mimetype": "text/x-python",
   "name": "python",
   "nbconvert_exporter": "python",
   "pygments_lexer": "ipython3",
   "version": "3.7.1"
  }
 },
 "nbformat": 4,
 "nbformat_minor": 2
}
